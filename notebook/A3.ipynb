{
 "cells": [
  {
   "cell_type": "markdown",
   "metadata": {
    "tags": []
   },
   "source": [
    "# A3: Visualization for Exploratory Data Analysis"
   ]
  },
  {
   "cell_type": "markdown",
   "metadata": {},
   "source": [
    "* [Exploratory real estate data analysis](#EDA)\n",
    "* [Submission](#Submission)"
   ]
  },
  {
   "cell_type": "markdown",
   "metadata": {},
   "source": [
    "## Objective"
   ]
  },
  {
   "cell_type": "markdown",
   "metadata": {},
   "source": [
    "The main focus of [this course](https://courses.cs.sfu.ca/2022sp-cmpt-733-g1) is on data science. [Lecture 3](https://sfu-db.github.io/bigdata-cmpt733/Lectures/lec3.pdf) gave you an overview of Visualization. After completing this assignment, you should be able to confidently perform visual data analysis using Python and gain some experience with geospatial data."
   ]
  },
  {
   "cell_type": "markdown",
   "metadata": {},
   "source": [
    "As a motivating example of how visualization can bring data to life and clear up misconceptions, consider to watch [Hans Rosling's famous TED talks](https://www.ted.com/playlists/474/the_best_hans_rosling_talks_yo), e.g. \"The best stat's you've ever seen\" from 2006."
   ]
  },
  {
   "cell_type": "markdown",
   "metadata": {},
   "source": [
    "## Real Estate EDA"
   ]
  },
  {
   "cell_type": "markdown",
   "metadata": {},
   "source": [
    "**Real estate data**\n",
    "\n",
    "Imagine you are data scientist working at a real-estate company. In this week, your job is to analyze Vancouver housing prices. First, inspect the dataset provided in [property_tax_report_2021.zip](property_tax_report_2021.zip). The dataset contains information on properties from BC Assessment (BCA) and City sources in 2021.\n",
    "You can find the schema information of the dataset from the [Vancouver Open Data Portal](https://opendata.vancouver.ca/explore/dataset/property-tax-report/information/).\n",
    "Familiarize yourself with the context and background info on that page before diving deeper into Exploratory Data Analysis."
   ]
  },
  {
   "cell_type": "markdown",
   "metadata": {},
   "source": [
    "We first load the data as a DataFrame. To make this analysis more interesting, we will add two new columns to the data: `CURRENT_PRICE` represents the property price in 2021; `PREVIOUS_PRICE` represents the property price in 2020."
   ]
  },
  {
   "cell_type": "code",
   "execution_count": 2,
   "metadata": {},
   "outputs": [
    {
     "name": "stderr",
     "output_type": "stream",
     "text": [
      "OpenBLAS WARNING - could not determine the L2 cache size on this system, assuming 256k\n"
     ]
    }
   ],
   "source": [
    "import pandas as pd\n",
    "import seaborn as sns\n",
    "import numpy as np\n",
    "import matplotlib.pyplot as plt\n",
    "from IPython.display import display, Markdown\n",
    "def displaymd(mdstr):\n",
    "    display(Markdown(mdstr))"
   ]
  },
  {
   "cell_type": "code",
   "execution_count": null,
   "metadata": {},
   "outputs": [],
   "source": [
    "\n",
    "# use this in case you have a hidpi display and figures appear blurry\n",
    "#%config InlineBackend.figure_format = 'retina'\n",
    "\n",
    "# before running this, unzip the provided data\n",
    "df = pd.read_csv(\"property_tax_report_2021.csv\", sep=';')\n",
    "\n",
    "df['CURRENT_PRICE'] = df.apply(lambda x: x['CURRENT_LAND_VALUE']+x['CURRENT_IMPROVEMENT_VALUE'], axis = 1)\n",
    "\n",
    "df['PREVIOUS_PRICE'] = df.apply(lambda x: x['PREVIOUS_LAND_VALUE']+x['PREVIOUS_IMPROVEMENT_VALUE'], axis = 1)\n"
   ]
  },
  {
   "cell_type": "markdown",
   "metadata": {},
   "source": [
    "Now let's start the EDA process. \n",
    "\n",
    "**Hint.** For some of the following questions, we provided an example plot (see [link](https://rawgit.com/sfu-db/bigdata-cmpt733/master/Assignments/A3/A3-plots.html)). But note that you do not have to use the same plot design. In fact, we didn't do a good job to follow the *Principles of Visualization Design* in the second half of the slides of [Lecture 3](https://sfu-db.github.io/bigdata-cmpt733/Lectures/lec3.pdf), please review this part by yourself.\n",
    "You should think about how to correct the bad designs in my plots."
   ]
  },
  {
   "cell_type": "markdown",
   "metadata": {},
   "source": [
    "### Question 1. Look at some example rows\n",
    "Print the first five rows of the data:"
   ]
  },
  {
   "cell_type": "code",
   "execution_count": 4,
   "metadata": {},
   "outputs": [
    {
     "data": {
      "text/html": [
       "<div>\n",
       "<style scoped>\n",
       "    .dataframe tbody tr th:only-of-type {\n",
       "        vertical-align: middle;\n",
       "    }\n",
       "\n",
       "    .dataframe tbody tr th {\n",
       "        vertical-align: top;\n",
       "    }\n",
       "\n",
       "    .dataframe thead th {\n",
       "        text-align: right;\n",
       "    }\n",
       "</style>\n",
       "<table border=\"1\" class=\"dataframe\">\n",
       "  <thead>\n",
       "    <tr style=\"text-align: right;\">\n",
       "      <th></th>\n",
       "      <th>PID</th>\n",
       "      <th>LEGAL_TYPE</th>\n",
       "      <th>FOLIO</th>\n",
       "      <th>LAND_COORDINATE</th>\n",
       "      <th>ZONING_DISTRICT</th>\n",
       "      <th>ZONING_CLASSIFICATION</th>\n",
       "      <th>LOT</th>\n",
       "      <th>PLAN</th>\n",
       "      <th>BLOCK</th>\n",
       "      <th>DISTRICT_LOT</th>\n",
       "      <th>...</th>\n",
       "      <th>TAX_ASSESSMENT_YEAR</th>\n",
       "      <th>PREVIOUS_LAND_VALUE</th>\n",
       "      <th>PREVIOUS_IMPROVEMENT_VALUE</th>\n",
       "      <th>YEAR_BUILT</th>\n",
       "      <th>BIG_IMPROVEMENT_YEAR</th>\n",
       "      <th>TAX_LEVY</th>\n",
       "      <th>NEIGHBOURHOOD_CODE</th>\n",
       "      <th>REPORT_YEAR</th>\n",
       "      <th>CURRENT_PRICE</th>\n",
       "      <th>PREVIOUS_PRICE</th>\n",
       "    </tr>\n",
       "  </thead>\n",
       "  <tbody>\n",
       "    <tr>\n",
       "      <th>0</th>\n",
       "      <td>002-582-759</td>\n",
       "      <td>STRATA</td>\n",
       "      <td>90717090036</td>\n",
       "      <td>9071709</td>\n",
       "      <td>CD-1 (94)</td>\n",
       "      <td>Comprehensive Development</td>\n",
       "      <td>36</td>\n",
       "      <td>VAS452</td>\n",
       "      <td>NaN</td>\n",
       "      <td>526</td>\n",
       "      <td>...</td>\n",
       "      <td>2021.0</td>\n",
       "      <td>1015000.0</td>\n",
       "      <td>115000.0</td>\n",
       "      <td>1977.0</td>\n",
       "      <td>1977.0</td>\n",
       "      <td>3644.37</td>\n",
       "      <td>4</td>\n",
       "      <td>2021</td>\n",
       "      <td>1247000.0</td>\n",
       "      <td>1130000.0</td>\n",
       "    </tr>\n",
       "    <tr>\n",
       "      <th>1</th>\n",
       "      <td>010-772-278</td>\n",
       "      <td>LAND</td>\n",
       "      <td>692077380000</td>\n",
       "      <td>69207738</td>\n",
       "      <td>RS-1</td>\n",
       "      <td>One-Family Dwelling</td>\n",
       "      <td>22</td>\n",
       "      <td>VAP6923</td>\n",
       "      <td>511</td>\n",
       "      <td>526</td>\n",
       "      <td>...</td>\n",
       "      <td>2021.0</td>\n",
       "      <td>2759000.0</td>\n",
       "      <td>463000.0</td>\n",
       "      <td>1991.0</td>\n",
       "      <td>1991.0</td>\n",
       "      <td>12528.80</td>\n",
       "      <td>4</td>\n",
       "      <td>2021</td>\n",
       "      <td>3421000.0</td>\n",
       "      <td>3222000.0</td>\n",
       "    </tr>\n",
       "    <tr>\n",
       "      <th>2</th>\n",
       "      <td>009-746-986</td>\n",
       "      <td>LAND</td>\n",
       "      <td>79715270000</td>\n",
       "      <td>7971527</td>\n",
       "      <td>RS-1</td>\n",
       "      <td>One-Family Dwelling</td>\n",
       "      <td>8</td>\n",
       "      <td>VAP9119</td>\n",
       "      <td>560</td>\n",
       "      <td>526</td>\n",
       "      <td>...</td>\n",
       "      <td>2021.0</td>\n",
       "      <td>2958000.0</td>\n",
       "      <td>278000.0</td>\n",
       "      <td>1955.0</td>\n",
       "      <td>1975.0</td>\n",
       "      <td>11602.60</td>\n",
       "      <td>4</td>\n",
       "      <td>2021</td>\n",
       "      <td>3488000.0</td>\n",
       "      <td>3236000.0</td>\n",
       "    </tr>\n",
       "    <tr>\n",
       "      <th>3</th>\n",
       "      <td>008-199-809</td>\n",
       "      <td>LAND</td>\n",
       "      <td>742030860000</td>\n",
       "      <td>74203086</td>\n",
       "      <td>RS-5</td>\n",
       "      <td>One-Family Dwelling</td>\n",
       "      <td>12</td>\n",
       "      <td>VAP5959</td>\n",
       "      <td>18</td>\n",
       "      <td>2027</td>\n",
       "      <td>...</td>\n",
       "      <td>2021.0</td>\n",
       "      <td>3204000.0</td>\n",
       "      <td>521000.0</td>\n",
       "      <td>1989.0</td>\n",
       "      <td>1989.0</td>\n",
       "      <td>15046.20</td>\n",
       "      <td>3</td>\n",
       "      <td>2021</td>\n",
       "      <td>3920000.0</td>\n",
       "      <td>3725000.0</td>\n",
       "    </tr>\n",
       "    <tr>\n",
       "      <th>4</th>\n",
       "      <td>004-429-435</td>\n",
       "      <td>LAND</td>\n",
       "      <td>723032140000</td>\n",
       "      <td>72303214</td>\n",
       "      <td>RS-5</td>\n",
       "      <td>One-Family Dwelling</td>\n",
       "      <td>32</td>\n",
       "      <td>VAP4499</td>\n",
       "      <td>60</td>\n",
       "      <td>2027</td>\n",
       "      <td>...</td>\n",
       "      <td>2021.0</td>\n",
       "      <td>2720000.0</td>\n",
       "      <td>256000.0</td>\n",
       "      <td>1986.0</td>\n",
       "      <td>1986.0</td>\n",
       "      <td>11135.00</td>\n",
       "      <td>3</td>\n",
       "      <td>2021</td>\n",
       "      <td>3122000.0</td>\n",
       "      <td>2976000.0</td>\n",
       "    </tr>\n",
       "  </tbody>\n",
       "</table>\n",
       "<p>5 rows × 31 columns</p>\n",
       "</div>"
      ],
      "text/plain": [
       "           PID LEGAL_TYPE         FOLIO  LAND_COORDINATE ZONING_DISTRICT  \\\n",
       "0  002-582-759     STRATA   90717090036          9071709       CD-1 (94)   \n",
       "1  010-772-278       LAND  692077380000         69207738            RS-1   \n",
       "2  009-746-986       LAND   79715270000          7971527            RS-1   \n",
       "3  008-199-809       LAND  742030860000         74203086            RS-5   \n",
       "4  004-429-435       LAND  723032140000         72303214            RS-5   \n",
       "\n",
       "       ZONING_CLASSIFICATION LOT     PLAN BLOCK DISTRICT_LOT  ...  \\\n",
       "0  Comprehensive Development  36   VAS452   NaN          526  ...   \n",
       "1        One-Family Dwelling  22  VAP6923   511          526  ...   \n",
       "2        One-Family Dwelling   8  VAP9119   560          526  ...   \n",
       "3        One-Family Dwelling  12  VAP5959    18         2027  ...   \n",
       "4        One-Family Dwelling  32  VAP4499    60         2027  ...   \n",
       "\n",
       "  TAX_ASSESSMENT_YEAR  PREVIOUS_LAND_VALUE PREVIOUS_IMPROVEMENT_VALUE  \\\n",
       "0              2021.0            1015000.0                   115000.0   \n",
       "1              2021.0            2759000.0                   463000.0   \n",
       "2              2021.0            2958000.0                   278000.0   \n",
       "3              2021.0            3204000.0                   521000.0   \n",
       "4              2021.0            2720000.0                   256000.0   \n",
       "\n",
       "  YEAR_BUILT BIG_IMPROVEMENT_YEAR  TAX_LEVY NEIGHBOURHOOD_CODE REPORT_YEAR  \\\n",
       "0     1977.0               1977.0   3644.37                  4        2021   \n",
       "1     1991.0               1991.0  12528.80                  4        2021   \n",
       "2     1955.0               1975.0  11602.60                  4        2021   \n",
       "3     1989.0               1989.0  15046.20                  3        2021   \n",
       "4     1986.0               1986.0  11135.00                  3        2021   \n",
       "\n",
       "  CURRENT_PRICE  PREVIOUS_PRICE  \n",
       "0     1247000.0       1130000.0  \n",
       "1     3421000.0       3222000.0  \n",
       "2     3488000.0       3236000.0  \n",
       "3     3920000.0       3725000.0  \n",
       "4     3122000.0       2976000.0  \n",
       "\n",
       "[5 rows x 31 columns]"
      ]
     },
     "execution_count": 146,
     "metadata": {},
     "output_type": "execute_result"
    }
   ],
   "source": [
    "# --- Write your code below ---\n",
    "df.head(5)"
   ]
  },
  {
   "cell_type": "markdown",
   "metadata": {},
   "source": [
    "### Question 2. Get summary statistics"
   ]
  },
  {
   "cell_type": "markdown",
   "metadata": {},
   "source": [
    "From the above output, you will know that the data has 28 columns. Please use the describe() function to get the summary statistics of each column.\n",
    "Also, to improve readability use a pandas [DataFrame Styler](https://pandas.pydata.org/pandas-docs/stable/user_guide/style.html) to format the numbers without scientific notation (i.e. no floating point exponent)."
   ]
  },
  {
   "cell_type": "code",
   "execution_count": 5,
   "metadata": {},
   "outputs": [
    {
     "data": {
      "text/html": [
       "<style type=\"text/css\">\n",
       "</style>\n",
       "<table id=\"T_5d60b\">\n",
       "  <thead>\n",
       "    <tr>\n",
       "      <th class=\"blank level0\" >&nbsp;</th>\n",
       "      <th id=\"T_5d60b_level0_col0\" class=\"col_heading level0 col0\" >FOLIO</th>\n",
       "      <th id=\"T_5d60b_level0_col1\" class=\"col_heading level0 col1\" >LAND_COORDINATE</th>\n",
       "      <th id=\"T_5d60b_level0_col2\" class=\"col_heading level0 col2\" >TO_CIVIC_NUMBER</th>\n",
       "      <th id=\"T_5d60b_level0_col3\" class=\"col_heading level0 col3\" >CURRENT_LAND_VALUE</th>\n",
       "      <th id=\"T_5d60b_level0_col4\" class=\"col_heading level0 col4\" >CURRENT_IMPROVEMENT_VALUE</th>\n",
       "      <th id=\"T_5d60b_level0_col5\" class=\"col_heading level0 col5\" >TAX_ASSESSMENT_YEAR</th>\n",
       "      <th id=\"T_5d60b_level0_col6\" class=\"col_heading level0 col6\" >PREVIOUS_LAND_VALUE</th>\n",
       "      <th id=\"T_5d60b_level0_col7\" class=\"col_heading level0 col7\" >PREVIOUS_IMPROVEMENT_VALUE</th>\n",
       "      <th id=\"T_5d60b_level0_col8\" class=\"col_heading level0 col8\" >YEAR_BUILT</th>\n",
       "      <th id=\"T_5d60b_level0_col9\" class=\"col_heading level0 col9\" >BIG_IMPROVEMENT_YEAR</th>\n",
       "      <th id=\"T_5d60b_level0_col10\" class=\"col_heading level0 col10\" >TAX_LEVY</th>\n",
       "      <th id=\"T_5d60b_level0_col11\" class=\"col_heading level0 col11\" >NEIGHBOURHOOD_CODE</th>\n",
       "      <th id=\"T_5d60b_level0_col12\" class=\"col_heading level0 col12\" >REPORT_YEAR</th>\n",
       "      <th id=\"T_5d60b_level0_col13\" class=\"col_heading level0 col13\" >CURRENT_PRICE</th>\n",
       "      <th id=\"T_5d60b_level0_col14\" class=\"col_heading level0 col14\" >PREVIOUS_PRICE</th>\n",
       "    </tr>\n",
       "  </thead>\n",
       "  <tbody>\n",
       "    <tr>\n",
       "      <th id=\"T_5d60b_level0_row0\" class=\"row_heading level0 row0\" >count</th>\n",
       "      <td id=\"T_5d60b_row0_col0\" class=\"data row0 col0\" >650847.00</td>\n",
       "      <td id=\"T_5d60b_row0_col1\" class=\"data row0 col1\" >650847.00</td>\n",
       "      <td id=\"T_5d60b_row0_col2\" class=\"data row0 col2\" >649178.00</td>\n",
       "      <td id=\"T_5d60b_row0_col3\" class=\"data row0 col3\" >642149.00</td>\n",
       "      <td id=\"T_5d60b_row0_col4\" class=\"data row0 col4\" >642149.00</td>\n",
       "      <td id=\"T_5d60b_row0_col5\" class=\"data row0 col5\" >642149.00</td>\n",
       "      <td id=\"T_5d60b_row0_col6\" class=\"data row0 col6\" >634890.00</td>\n",
       "      <td id=\"T_5d60b_row0_col7\" class=\"data row0 col7\" >634890.00</td>\n",
       "      <td id=\"T_5d60b_row0_col8\" class=\"data row0 col8\" >622538.00</td>\n",
       "      <td id=\"T_5d60b_row0_col9\" class=\"data row0 col9\" >622538.00</td>\n",
       "      <td id=\"T_5d60b_row0_col10\" class=\"data row0 col10\" >426393.00</td>\n",
       "      <td id=\"T_5d60b_row0_col11\" class=\"data row0 col11\" >650847.00</td>\n",
       "      <td id=\"T_5d60b_row0_col12\" class=\"data row0 col12\" >650847.00</td>\n",
       "      <td id=\"T_5d60b_row0_col13\" class=\"data row0 col13\" >642149.00</td>\n",
       "      <td id=\"T_5d60b_row0_col14\" class=\"data row0 col14\" >634890.00</td>\n",
       "    </tr>\n",
       "    <tr>\n",
       "      <th id=\"T_5d60b_level0_row1\" class=\"row_heading level0 row1\" >mean</th>\n",
       "      <td id=\"T_5d60b_row1_col0\" class=\"data row1 col0\" >498730471748.25</td>\n",
       "      <td id=\"T_5d60b_row1_col1\" class=\"data row1 col1\" >49873047.17</td>\n",
       "      <td id=\"T_5d60b_row1_col2\" class=\"data row1 col2\" >2381.41</td>\n",
       "      <td id=\"T_5d60b_row1_col3\" class=\"data row1 col3\" >1709920.16</td>\n",
       "      <td id=\"T_5d60b_row1_col4\" class=\"data row1 col4\" >436542.00</td>\n",
       "      <td id=\"T_5d60b_row1_col5\" class=\"data row1 col5\" >2021.01</td>\n",
       "      <td id=\"T_5d60b_row1_col6\" class=\"data row1 col6\" >1714975.90</td>\n",
       "      <td id=\"T_5d60b_row1_col7\" class=\"data row1 col7\" >408908.72</td>\n",
       "      <td id=\"T_5d60b_row1_col8\" class=\"data row1 col8\" >1983.35</td>\n",
       "      <td id=\"T_5d60b_row1_col9\" class=\"data row1 col9\" >1990.93</td>\n",
       "      <td id=\"T_5d60b_row1_col10\" class=\"data row1 col10\" >8356.72</td>\n",
       "      <td id=\"T_5d60b_row1_col11\" class=\"data row1 col11\" >16.54</td>\n",
       "      <td id=\"T_5d60b_row1_col12\" class=\"data row1 col12\" >2021.01</td>\n",
       "      <td id=\"T_5d60b_row1_col13\" class=\"data row1 col13\" >2146462.15</td>\n",
       "      <td id=\"T_5d60b_row1_col14\" class=\"data row1 col14\" >2123884.61</td>\n",
       "    </tr>\n",
       "    <tr>\n",
       "      <th id=\"T_5d60b_level0_row2\" class=\"row_heading level0 row2\" >std</th>\n",
       "      <td id=\"T_5d60b_row2_col0\" class=\"data row2 col0\" >249280578035.74</td>\n",
       "      <td id=\"T_5d60b_row2_col1\" class=\"data row2 col1\" >24928057.81</td>\n",
       "      <td id=\"T_5d60b_row2_col2\" class=\"data row2 col2\" >1989.22</td>\n",
       "      <td id=\"T_5d60b_row2_col3\" class=\"data row2 col3\" >9876736.00</td>\n",
       "      <td id=\"T_5d60b_row2_col4\" class=\"data row2 col4\" >4424333.36</td>\n",
       "      <td id=\"T_5d60b_row2_col5\" class=\"data row2 col5\" >0.82</td>\n",
       "      <td id=\"T_5d60b_row2_col6\" class=\"data row2 col6\" >9868571.45</td>\n",
       "      <td id=\"T_5d60b_row2_col7\" class=\"data row2 col7\" >4087834.81</td>\n",
       "      <td id=\"T_5d60b_row2_col8\" class=\"data row2 col8\" >29.63</td>\n",
       "      <td id=\"T_5d60b_row2_col9\" class=\"data row2 col9\" >19.49</td>\n",
       "      <td id=\"T_5d60b_row2_col10\" class=\"data row2 col10\" >57341.15</td>\n",
       "      <td id=\"T_5d60b_row2_col11\" class=\"data row2 col11\" >8.95</td>\n",
       "      <td id=\"T_5d60b_row2_col12\" class=\"data row2 col12\" >0.82</td>\n",
       "      <td id=\"T_5d60b_row2_col13\" class=\"data row2 col13\" >12132261.01</td>\n",
       "      <td id=\"T_5d60b_row2_col14\" class=\"data row2 col14\" >11923651.16</td>\n",
       "    </tr>\n",
       "    <tr>\n",
       "      <th id=\"T_5d60b_level0_row3\" class=\"row_heading level0 row3\" >min</th>\n",
       "      <td id=\"T_5d60b_row3_col0\" class=\"data row3 col0\" >19632060000.00</td>\n",
       "      <td id=\"T_5d60b_row3_col1\" class=\"data row3 col1\" >1963206.00</td>\n",
       "      <td id=\"T_5d60b_row3_col2\" class=\"data row3 col2\" >1.00</td>\n",
       "      <td id=\"T_5d60b_row3_col3\" class=\"data row3 col3\" >0.00</td>\n",
       "      <td id=\"T_5d60b_row3_col4\" class=\"data row3 col4\" >0.00</td>\n",
       "      <td id=\"T_5d60b_row3_col5\" class=\"data row3 col5\" >2020.00</td>\n",
       "      <td id=\"T_5d60b_row3_col6\" class=\"data row3 col6\" >0.00</td>\n",
       "      <td id=\"T_5d60b_row3_col7\" class=\"data row3 col7\" >0.00</td>\n",
       "      <td id=\"T_5d60b_row3_col8\" class=\"data row3 col8\" >1800.00</td>\n",
       "      <td id=\"T_5d60b_row3_col9\" class=\"data row3 col9\" >200.00</td>\n",
       "      <td id=\"T_5d60b_row3_col10\" class=\"data row3 col10\" >0.00</td>\n",
       "      <td id=\"T_5d60b_row3_col11\" class=\"data row3 col11\" >1.00</td>\n",
       "      <td id=\"T_5d60b_row3_col12\" class=\"data row3 col12\" >2020.00</td>\n",
       "      <td id=\"T_5d60b_row3_col13\" class=\"data row3 col13\" >0.00</td>\n",
       "      <td id=\"T_5d60b_row3_col14\" class=\"data row3 col14\" >0.00</td>\n",
       "    </tr>\n",
       "    <tr>\n",
       "      <th id=\"T_5d60b_level0_row4\" class=\"row_heading level0 row4\" >25%</th>\n",
       "      <td id=\"T_5d60b_row4_col0\" class=\"data row4 col0\" >210710030034.00</td>\n",
       "      <td id=\"T_5d60b_row4_col1\" class=\"data row4 col1\" >21071003.00</td>\n",
       "      <td id=\"T_5d60b_row4_col2\" class=\"data row4 col2\" >939.00</td>\n",
       "      <td id=\"T_5d60b_row4_col3\" class=\"data row4 col3\" >481000.00</td>\n",
       "      <td id=\"T_5d60b_row4_col4\" class=\"data row4 col4\" >101000.00</td>\n",
       "      <td id=\"T_5d60b_row4_col5\" class=\"data row4 col5\" >2020.00</td>\n",
       "      <td id=\"T_5d60b_row4_col6\" class=\"data row4 col6\" >480000.00</td>\n",
       "      <td id=\"T_5d60b_row4_col7\" class=\"data row4 col7\" >97200.00</td>\n",
       "      <td id=\"T_5d60b_row4_col8\" class=\"data row4 col8\" >1972.00</td>\n",
       "      <td id=\"T_5d60b_row4_col9\" class=\"data row4 col9\" >1980.00</td>\n",
       "      <td id=\"T_5d60b_row4_col10\" class=\"data row4 col10\" >1911.31</td>\n",
       "      <td id=\"T_5d60b_row4_col11\" class=\"data row4 col11\" >9.00</td>\n",
       "      <td id=\"T_5d60b_row4_col12\" class=\"data row4 col12\" >2020.00</td>\n",
       "      <td id=\"T_5d60b_row4_col13\" class=\"data row4 col13\" >669000.00</td>\n",
       "      <td id=\"T_5d60b_row4_col14\" class=\"data row4 col14\" >664000.00</td>\n",
       "    </tr>\n",
       "    <tr>\n",
       "      <th id=\"T_5d60b_level0_row5\" class=\"row_heading level0 row5\" >50%</th>\n",
       "      <td id=\"T_5d60b_row5_col0\" class=\"data row5 col0\" >612275650000.00</td>\n",
       "      <td id=\"T_5d60b_row5_col1\" class=\"data row5 col1\" >61227565.00</td>\n",
       "      <td id=\"T_5d60b_row5_col2\" class=\"data row5 col2\" >1777.00</td>\n",
       "      <td id=\"T_5d60b_row5_col3\" class=\"data row5 col3\" >956000.00</td>\n",
       "      <td id=\"T_5d60b_row5_col4\" class=\"data row5 col4\" >193000.00</td>\n",
       "      <td id=\"T_5d60b_row5_col5\" class=\"data row5 col5\" >2021.00</td>\n",
       "      <td id=\"T_5d60b_row5_col6\" class=\"data row5 col6\" >963000.00</td>\n",
       "      <td id=\"T_5d60b_row5_col7\" class=\"data row5 col7\" >186000.00</td>\n",
       "      <td id=\"T_5d60b_row5_col8\" class=\"data row5 col8\" >1993.00</td>\n",
       "      <td id=\"T_5d60b_row5_col9\" class=\"data row5 col9\" >1994.00</td>\n",
       "      <td id=\"T_5d60b_row5_col10\" class=\"data row5 col10\" >3926.26</td>\n",
       "      <td id=\"T_5d60b_row5_col11\" class=\"data row5 col11\" >16.00</td>\n",
       "      <td id=\"T_5d60b_row5_col12\" class=\"data row5 col12\" >2021.00</td>\n",
       "      <td id=\"T_5d60b_row5_col13\" class=\"data row5 col13\" >1183000.00</td>\n",
       "      <td id=\"T_5d60b_row5_col14\" class=\"data row5 col14\" >1178000.00</td>\n",
       "    </tr>\n",
       "    <tr>\n",
       "      <th id=\"T_5d60b_level0_row6\" class=\"row_heading level0 row6\" >75%</th>\n",
       "      <td id=\"T_5d60b_row6_col0\" class=\"data row6 col0\" >690033505000.00</td>\n",
       "      <td id=\"T_5d60b_row6_col1\" class=\"data row6 col1\" >69003350.50</td>\n",
       "      <td id=\"T_5d60b_row6_col2\" class=\"data row6 col2\" >3336.00</td>\n",
       "      <td id=\"T_5d60b_row6_col3\" class=\"data row6 col3\" >1576000.00</td>\n",
       "      <td id=\"T_5d60b_row6_col4\" class=\"data row6 col4\" >317000.00</td>\n",
       "      <td id=\"T_5d60b_row6_col5\" class=\"data row6 col5\" >2022.00</td>\n",
       "      <td id=\"T_5d60b_row6_col6\" class=\"data row6 col6\" >1516000.00</td>\n",
       "      <td id=\"T_5d60b_row6_col7\" class=\"data row6 col7\" >305000.00</td>\n",
       "      <td id=\"T_5d60b_row6_col8\" class=\"data row6 col8\" >2005.00</td>\n",
       "      <td id=\"T_5d60b_row6_col9\" class=\"data row6 col9\" >2005.00</td>\n",
       "      <td id=\"T_5d60b_row6_col10\" class=\"data row6 col10\" >6589.01</td>\n",
       "      <td id=\"T_5d60b_row6_col11\" class=\"data row6 col11\" >25.00</td>\n",
       "      <td id=\"T_5d60b_row6_col12\" class=\"data row6 col12\" >2022.00</td>\n",
       "      <td id=\"T_5d60b_row6_col13\" class=\"data row6 col13\" >1872000.00</td>\n",
       "      <td id=\"T_5d60b_row6_col14\" class=\"data row6 col14\" >1803000.00</td>\n",
       "    </tr>\n",
       "    <tr>\n",
       "      <th id=\"T_5d60b_level0_row7\" class=\"row_heading level0 row7\" >max</th>\n",
       "      <td id=\"T_5d60b_row7_col0\" class=\"data row7 col0\" >845313420000.00</td>\n",
       "      <td id=\"T_5d60b_row7_col1\" class=\"data row7 col1\" >84531342.00</td>\n",
       "      <td id=\"T_5d60b_row7_col2\" class=\"data row7 col2\" >31888.00</td>\n",
       "      <td id=\"T_5d60b_row7_col3\" class=\"data row7 col3\" >3488433000.00</td>\n",
       "      <td id=\"T_5d60b_row7_col4\" class=\"data row7 col4\" >693426000.00</td>\n",
       "      <td id=\"T_5d60b_row7_col5\" class=\"data row7 col5\" >2022.00</td>\n",
       "      <td id=\"T_5d60b_row7_col6\" class=\"data row7 col6\" >3165054000.00</td>\n",
       "      <td id=\"T_5d60b_row7_col7\" class=\"data row7 col7\" >652775000.00</td>\n",
       "      <td id=\"T_5d60b_row7_col8\" class=\"data row7 col8\" >2019.00</td>\n",
       "      <td id=\"T_5d60b_row7_col9\" class=\"data row7 col9\" >2019.00</td>\n",
       "      <td id=\"T_5d60b_row7_col10\" class=\"data row7 col10\" >8621182.00</td>\n",
       "      <td id=\"T_5d60b_row7_col11\" class=\"data row7 col11\" >30.00</td>\n",
       "      <td id=\"T_5d60b_row7_col12\" class=\"data row7 col12\" >2022.00</td>\n",
       "      <td id=\"T_5d60b_row7_col13\" class=\"data row7 col13\" >3496582000.00</td>\n",
       "      <td id=\"T_5d60b_row7_col14\" class=\"data row7 col14\" >3172855000.00</td>\n",
       "    </tr>\n",
       "  </tbody>\n",
       "</table>\n"
      ],
      "text/plain": [
       "<pandas.io.formats.style.Styler at 0x7f58749a1250>"
      ]
     },
     "execution_count": 147,
     "metadata": {},
     "output_type": "execute_result"
    }
   ],
   "source": [
    "# --- Write your code below ---\n",
    "df.describe().style.format(precision=2)"
   ]
  },
  {
   "cell_type": "markdown",
   "metadata": {},
   "source": [
    "Please look at the above output carefully, and make sure that you understand the meanings of each row (e.g., std, 25% percentile)."
   ]
  },
  {
   "cell_type": "markdown",
   "metadata": {},
   "source": [
    "### Question 3. Examine missing values"
   ]
  },
  {
   "cell_type": "markdown",
   "metadata": {},
   "source": [
    "Now we are going to perform EDA on a single column (i.e., univariate analysis). We chose `YEAR_BUILT`, which represents in which year a property was built.  We first check whether the column has any missing value. "
   ]
  },
  {
   "cell_type": "code",
   "execution_count": 6,
   "metadata": {
    "scrolled": true
   },
   "outputs": [
    {
     "name": "stdout",
     "output_type": "stream",
     "text": [
      "Missing Value: 4.35%\n"
     ]
    }
   ],
   "source": [
    "# --- Write your code below ---\n",
    "# Print the percentage of the rows whose YEAR_BUILT is missing.\n",
    "print('Missing Value: {:.2%}'.format(df['YEAR_BUILT'].isna().mean()))"
   ]
  },
  {
   "cell_type": "markdown",
   "metadata": {},
   "source": [
    "Missing values are very common in real-world datasets. In practice, you should always be aware of the impact of the missing values on your downstream analysis results."
   ]
  },
  {
   "cell_type": "markdown",
   "metadata": {},
   "source": [
    "### Question 4.  Plot a line chart"
   ]
  },
  {
   "cell_type": "markdown",
   "metadata": {},
   "source": [
    "We now start investigating the values in the `YEAR_BUILT` column.  Suppose we want to know: \"How many properties were built in each year (from 1990 to 2018)?\" Please plot a line chart to answer the question."
   ]
  },
  {
   "cell_type": "code",
   "execution_count": 177,
   "metadata": {
    "scrolled": true
   },
   "outputs": [
    {
     "name": "stderr",
     "output_type": "stream",
     "text": [
      "/tmp/ipykernel_51/976038627.py:3: SettingWithCopyWarning: \n",
      "A value is trying to be set on a copy of a slice from a DataFrame.\n",
      "Try using .loc[row_indexer,col_indexer] = value instead\n",
      "\n",
      "See the caveats in the documentation: https://pandas.pydata.org/pandas-docs/stable/user_guide/indexing.html#returning-a-view-versus-a-copy\n",
      "  data['YEAR_BUILT']=data['YEAR_BUILT'].astype(int)\n"
     ]
    },
    {
     "data": {
      "text/plain": [
       "Text(0, 0.5, '# of properties')"
      ]
     },
     "execution_count": 177,
     "metadata": {},
     "output_type": "execute_result"
    },
    {
     "data": {
      "image/png": "[encoded data removed]",
      "text/plain": [
       "<Figure size 432x288 with 1 Axes>"
      ]
     },
     "metadata": {},
     "output_type": "display_data"
    }
   ],
   "source": [
    "# --- Write your code below ---\n",
    "data=df.query('YEAR_BUILT >= 1990 & YEAR_BUILT <= 2018')\n",
    "data['YEAR_BUILT']=data['YEAR_BUILT'].astype(int)\n",
    "data=data.groupby('YEAR_BUILT').size()\n",
    "sns.lineplot(data=data)\n",
    "plt.ylabel(\"# of properties\")"
   ]
  },
  {
   "cell_type": "markdown",
   "metadata": {},
   "source": [
    "Please write down the **two** most interesting findings that you draw from the plot. For example, you can say: <font color='blue'>\"Vancouver has about 6300 properties built in 1996 alone, which is more than any other year\"</font>.\n",
    "\n",
    "**Findings**\n",
    "1. There is an upward trend followed from 1992-1994. After 2011's the trend seemed to be very stable with little or no variations.\n",
    "2. There are considerable drop in number of properties built in 1994 and 2001 probably because of the global economic recession and housing bubble crisis in the USA"
   ]
  },
  {
   "cell_type": "markdown",
   "metadata": {},
   "source": [
    "### Question 5. Plot a bar chart"
   ]
  },
  {
   "cell_type": "markdown",
   "metadata": {},
   "source": [
    "Next, we want to find that, between 1900 and 2021, which years have the most number of properties been built? Plot a bar chart to show the top 20 years. "
   ]
  },
  {
   "cell_type": "code",
   "execution_count": 185,
   "metadata": {
    "scrolled": true
   },
   "outputs": [
    {
     "name": "stderr",
     "output_type": "stream",
     "text": [
      "/tmp/ipykernel_51/362710764.py:3: SettingWithCopyWarning: \n",
      "A value is trying to be set on a copy of a slice from a DataFrame.\n",
      "Try using .loc[row_indexer,col_indexer] = value instead\n",
      "\n",
      "See the caveats in the documentation: https://pandas.pydata.org/pandas-docs/stable/user_guide/indexing.html#returning-a-view-versus-a-copy\n",
      "  data['YEAR_BUILT']=data['YEAR_BUILT'].astype(int)\n"
     ]
    },
    {
     "data": {
      "text/plain": [
       "Text(0, 0.5, '# of properties')"
      ]
     },
     "execution_count": 185,
     "metadata": {},
     "output_type": "execute_result"
    },
    {
     "data": {
      "image/png": "[encoded data removed]",
      "text/plain": [
       "<Figure size 432x288 with 1 Axes>"
      ]
     },
     "metadata": {},
     "output_type": "display_data"
    }
   ],
   "source": [
    "# --- Write your code below ---\n",
    "data = df[(df.YEAR_BUILT >= 1900)]\n",
    "data['YEAR_BUILT']=data['YEAR_BUILT'].astype(int)\n",
    "data=data.groupby(\"YEAR_BUILT\", as_index=False)[\"YEAR_BUILT\"].agg(['count']).reset_index()\n",
    "# data=data.nlargest(20, 'count')\n",
    "data=data.sort_values('count',ascending=False).head(20)\n",
    "\n",
    "sns.barplot(x=\"YEAR_BUILT\", y=\"count\", data=data,  order=data['YEAR_BUILT'], color=\"#2077B4\")\n",
    "plt.xticks(rotation = 90)\n",
    "plt.ylabel(\"# of properties\")"
   ]
  },
  {
   "cell_type": "markdown",
   "metadata": {},
   "source": [
    "Please write down the **two** most interesting findings that you draw from the plot. \n",
    "\n",
    "**Findings**\n",
    "1. Althought we are analyzing last 108 years of data, 19 out of top 20 years falls between 1989 & 2013.\n",
    "2. In the above figure, the average number of properties built per year is around 4400."
   ]
  },
  {
   "cell_type": "markdown",
   "metadata": {},
   "source": [
    "### Question 6. Plot a histogram"
   ]
  },
  {
   "cell_type": "markdown",
   "metadata": {},
   "source": [
    "What's the distribution of the number of properties built between 1990 and 2020? Please plot a histogram to answer this question."
   ]
  },
  {
   "cell_type": "code",
   "execution_count": 184,
   "metadata": {},
   "outputs": [
    {
     "data": {
      "image/png": "[encoded data removed]",
      "text/plain": [
       "<Figure size 432x288 with 1 Axes>"
      ]
     },
     "metadata": {},
     "output_type": "display_data"
    }
   ],
   "source": [
    "# --- Write your code below ---\n",
    "data = df[(df.YEAR_BUILT >= 1900)]\n",
    "data = data.groupby('YEAR_BUILT').size()\n",
    "sns.histplot(data=data, bins=48)\n",
    "\n",
    "plt.ylabel('Frequency');\n",
    "plt.xlabel('# of Properties');"
   ]
  },
  {
   "cell_type": "markdown",
   "metadata": {},
   "source": [
    "Please write down the **two** most interesting findings that you draw from the plot. \n",
    "\n",
    "**Findings**\n",
    "1. The most common number of properties built per year is around 1000\n",
    "2. If we further subgroup and inspect closely, there are more years with number of properties built between (500 - 1000) than between (0- 500). (change bin size to 12)"
   ]
  },
  {
   "cell_type": "markdown",
   "metadata": {},
   "source": [
    "### Question 7. Make a scatter plot"
   ]
  },
  {
   "cell_type": "markdown",
   "metadata": {},
   "source": [
    "Suppose we are interested in those years which built more than 2000 properties. Make a scatter plot to examine whether there is a relationship between the number of built properties and the year?"
   ]
  },
  {
   "cell_type": "code",
   "execution_count": 190,
   "metadata": {
    "tags": []
   },
   "outputs": [
    {
     "name": "stderr",
     "output_type": "stream",
     "text": [
      "/opt/conda/lib/python3.9/site-packages/seaborn/_decorators.py:36: FutureWarning: Pass the following variables as keyword args: x, y. From version 0.12, the only valid positional argument will be `data`, and passing other arguments without an explicit keyword will result in an error or misinterpretation.\n",
      "  warnings.warn(\n"
     ]
    },
    {
     "data": {
      "image/png": "[encoded data removed]",
      "text/plain": [
       "<Figure size 432x288 with 1 Axes>"
      ]
     },
     "metadata": {},
     "output_type": "display_data"
    }
   ],
   "source": [
    "# --- Write your code below ---\n",
    "\n",
    "import matplotlib.pyplot as plt\n",
    "\n",
    "data = df[(df.YEAR_BUILT >= 1900)]\n",
    "data = data.groupby('YEAR_BUILT').size()\n",
    "data = data[data > 2000]\n",
    "# plt.scatter(data, data.index)\n",
    "sns.scatterplot(data, data.index)\n",
    "plt.ylabel('Year');\n",
    "plt.xlabel('# of Properties');"
   ]
  },
  {
   "cell_type": "markdown",
   "metadata": {},
   "source": [
    "Please write down the **two** most interesting findings that you draw from the plot. \n",
    "\n",
    "**Findings**\n",
    "1. Most of the properties in Vancouver started building after '70s.\n",
    "2. The 4 outliers are clearly visible; some early years around 1900's and around '95's when there were way more properties built than the usual average."
   ]
  },
  {
   "cell_type": "markdown",
   "metadata": {
    "tags": []
   },
   "source": [
    "### Step 8. Obtain geographic coordinates for Canadian postal codes\n",
    "\n",
    "The property data carries Canadian postal codes, but latitude/longitude coordinates would be much more useful. Unfortunately, geolocations of Canadian postal codes are protected by copyright and the information has to be purchased. Fortunately, you already paid for it with your tuition...\n",
    "\n",
    "Statistics Canada has a protected dataset, the postal code conversion file, which is available to SFU students via the Abacus Dataverse. Please follow these steps:\n",
    "* Have a valid SFU account (not sure if alumni account would work)\n",
    "* Connect to the Abacus Data Network via https://databases.lib.sfu.ca/record/61245148090003610/Abacus-Data-Network\n",
    "* Connecting via the above link should show you as logged in user at https://abacus-library-ubc-ca.proxy.lib.sfu.ca/\n",
    "* Search for: **Postal Code Conversion File May 2021**\n",
    "* Download files: **pccfNat_fccpNat_052021.txt** and the [2021 PCCF Guide .pdf](https://abacus.library.ubc.ca/file.xhtml?persistentId=hdl:11272.1/AB2/9J8YUH/WJHERN&version=1.0) and place them in the same folder as this notebook.\n",
    "\n",
    "#### Details about the dataset in the 2021 PCCF Guide\n",
    "* Description of available fields for each postal code, see Content section, pp. 9\n",
    "* Offsets and Size of fields to extract from lines in Postal Code Conversion File, Table 4.1, p. 11.  \n",
    "  This is also included along with this notebook as **pccf_record_layout.csv**"
   ]
  },
  {
   "cell_type": "code",
   "execution_count": 11,
   "metadata": {
    "tags": []
   },
   "outputs": [
    {
     "data": {
      "text/markdown": [
       "Number of lines in PCCF: 1,742,403"
      ],
      "text/plain": [
       "<IPython.core.display.Markdown object>"
      ]
     },
     "metadata": {},
     "output_type": "display_data"
    }
   ],
   "source": [
    "rldf = pd.read_csv('pccf_record_layout.csv')\n",
    "# load the raw text pccf file\n",
    "with open('pccfNat_fccpNat_052021.txt','r', encoding='latin-1') as fh:\n",
    "    pctxt = fh.read()\n",
    "pclines = pctxt.split('\\n')\n",
    "pclines = list(filter(lambda l: len(l), pclines)) # keep only non-empty lines\n",
    "displaymd(f\"Number of lines in PCCF: {len(pclines):,}\")"
   ]
  },
  {
   "cell_type": "markdown",
   "metadata": {},
   "source": [
    "The following extraction of substrings works, but is *very slow*. Please use [pandas string methods](https://pandas.pydata.org/pandas-docs/stable/user_guide/text.html#string-methods) to make this faster.  \n",
    "**TODO** write your improved code here."
   ]
  },
  {
   "cell_type": "code",
   "execution_count": 13,
   "metadata": {},
   "outputs": [
    {
     "name": "stdout",
     "output_type": "stream",
     "text": [
      "0 Postal code\n",
      "1 FSA\n",
      "2 PR\n",
      "3 CDuid\n",
      "4 CSDuid\n",
      "5 CSDname\n",
      "6 CSDtype\n",
      "7 CCScode\n",
      "8 SAC\n",
      "9 SACtype\n",
      "10 CTname\n",
      "11 ER\n",
      "12 DPL\n",
      "13 FED13uid\n",
      "14 POP_CNTR_RA\n",
      "15 POP_CNTR_RA_type\n",
      "16 DAuid\n",
      "17 Dissemination block\n",
      "18 Rep_Pt_Type\n",
      "19 LAT\n",
      "20 LONG\n",
      "21 SLI\n",
      "22 PCtype\n",
      "23 Comm_Name\n",
      "24 DMT\n",
      "25 H_DMT\n",
      "26 Birth_Date\n",
      "27 Ret_Date\n",
      "28 PO\n",
      "29 QI\n",
      "30 Source\n",
      "31 POP_CNTR_RA_SIZE_CLASS\n"
     ]
    }
   ],
   "source": [
    "# TODO: rewrite this function to make it run in about a minute (or just maybe 17 sec)\n",
    "def gen_pccf():\n",
    "    for idx, r in rldf.iterrows():\n",
    "        print(idx, r['Field name'])\n",
    "        yield r['Field name'], pd.Index(pclines).str[r['Position'] - 1:r['Position'] + r['Size'] - 1]\n",
    "pccf_df = pd.DataFrame(dict(gen_pccf()))"
   ]
  },
  {
   "cell_type": "code",
   "execution_count": 14,
   "metadata": {},
   "outputs": [],
   "source": [
    "pccf_df['LAT'] = pccf_df['LAT'].astype(float)\n",
    "pccf_df['LONG'] = pccf_df['LONG'].astype(float)\n",
    "pccf_short = pccf_df[['Postal code', 'LONG', 'LAT', 'CSDname']]\n",
    "pccf_short = pccf_short.groupby('Postal code').agg({'LONG':'mean','LAT':'mean','CSDname':'first'})"
   ]
  },
  {
   "cell_type": "markdown",
   "metadata": {},
   "source": [
    "Phew, that was tedious! But now we're ready to merge geolocation to our property data."
   ]
  },
  {
   "cell_type": "code",
   "execution_count": 23,
   "metadata": {
    "scrolled": true
   },
   "outputs": [],
   "source": [
    "df['Postal code'] = df['PROPERTY_POSTAL_CODE'].str.replace(' ','')\n",
    "dfgeo = df.merge(pccf_short, on='Postal code')"
   ]
  },
  {
   "cell_type": "code",
   "execution_count": 54,
   "metadata": {},
   "outputs": [],
   "source": [
    "# TODO remove the properties that are further north, outside Vancouver proper.\n",
    "\n",
    "# Use a suitable visualiation to decide the right cutoff.\n",
    "# dfgeo['CSDname'].describe()\n",
    "# --- write your code here ---\n",
    "dfgeo_van = dfgeo.loc[dfgeo['CSDname'].str.strip() == 'Vancouver']"
   ]
  },
  {
   "cell_type": "markdown",
   "metadata": {},
   "source": [
    "Feel free to use the function below to prepare a heatmap of averages. The code is based on [Matthew McGonagle's blog post](https://matthewmcgonagle.github.io/blog/2019/01/22/HeatmapBins)."
   ]
  },
  {
   "cell_type": "code",
   "execution_count": 55,
   "metadata": {},
   "outputs": [],
   "source": [
    "def heatmap_bins(data, fieldsxy, ncuts=30, aggarg='mean'):\n",
    "    \"\"\"Perform data.groupby using bin cuts along columns named in fieldsxy.\n",
    "    Args:\n",
    "        data     - pandas dataframe\n",
    "        fieldsxy - list of column names along which to perform binned groupby\n",
    "        ncuts    - number of cuts to perform for each field (see pd.cut)\n",
    "        aggarg   - aggregation operation to perform, default: 'mean'\n",
    "    Returns:\n",
    "        grouped dataframe, ready for plotting via sns.heatmap(means['COLUMNAME'])\n",
    "    \"\"\"\n",
    "    # based on: https://matthewmcgonagle.github.io/blog/2019/01/22/HeatmapBins\n",
    "    cuts = pd.DataFrame({str(feature) + ' bins' : pd.cut(data[feature], ncuts) for feature in fieldsxy})\n",
    "    means = data.join(cuts).groupby( list(cuts) ).agg(aggarg)\n",
    "    means = means.unstack(level = 0) # Use level 0 to put 0Bin as columns.\n",
    "    # Reverse the order of the rows as the heatmap will print from top to bottom.\n",
    "    means = means.iloc[::-1]\n",
    "    return means"
   ]
  },
  {
   "cell_type": "markdown",
   "metadata": {},
   "source": [
    "**TODO** plot a heatmap of average current property prices, within the same geographic area\n",
    "\n",
    "Note that the colormap is pretty much useless due to a few extreme values. Rather than removing them as 'outliers', please just map the values before drawing with a suitable choice of logarithm."
   ]
  },
  {
   "cell_type": "code",
   "execution_count": 62,
   "metadata": {},
   "outputs": [
    {
     "data": {
      "image/png": "[encoded data removed]",
      "text/plain": [
       "<Figure size 720x720 with 2 Axes>"
      ]
     },
     "metadata": {
      "needs_background": "light"
     },
     "output_type": "display_data"
    }
   ],
   "source": [
    "field = 'CURRENT_PRICE'\n",
    "with plt.rc_context({'figure.figsize': (10,10)}):\n",
    "    # TODO -- write your code here ---\n",
    "    means=heatmap_bins(data=dfgeo_van,fieldsxy=['LAT','LONG'])\n",
    "    sns.heatmap(means[field], xticklabels=means[field].columns.map(lambda x: x.left),\n",
    "                yticklabels=means[field].index.map(lambda x: x.left), cmap='YlGnBu'\n",
    "               )\n",
    "plt.xticks([], []);\n",
    "plt.yticks([], []);"
   ]
  },
  {
   "cell_type": "markdown",
   "metadata": {},
   "source": [
    "Please write down the **two** most interesting findings that you draw from the plot. \n",
    "\n",
    "**Findings**\n",
    "1. There is no significant difference in current prices on the most of the regions\n",
    "2. The most expensive places are fouces on the east side of Vancouver\n"
   ]
  },
  {
   "cell_type": "markdown",
   "metadata": {
    "jp-MarkdownHeadingCollapsed": true,
    "tags": []
   },
   "source": [
    "### Optional Task 9: Further exploration\n",
    "\n",
    "This Assignment is due while you're also working on your Blog posts. To give you enough time to do a good job on your article, we dropped a more involved Part 2.\n",
    "\n",
    "If you want to go further after starting out with the spatial data above, have a look at the material and tutorials of Geoff Boeing's [OSMnx](https://github.com/gboeing/osmnx). It can interface with the open street map API and pull further data (such as amenities, road network, basemap to put in the background of a plot, etc.)\n",
    "\n",
    "In case you decide to work on this and would like to share your result, include a single page (or short) PDF that contains a plot and brief paragraph explaining it. Depending on the outcome, we may showcase some of these works in class."
   ]
  },
  {
   "cell_type": "markdown",
   "metadata": {},
   "source": [
    "## Submission"
   ]
  },
  {
   "cell_type": "markdown",
   "metadata": {},
   "source": [
    "You need to complete the first part by filling out this notebook. Please submit <font color=\"blue\">A3.ipynb</font> to the CourSys activity [Assignment 3](https://courses.cs.sfu.ca/2022sp-cmpt-733-g1/+a3/). "
   ]
  }
 ],
 "metadata": {
  "kernelspec": {
   "display_name": "Python 3 (ipykernel)",
   "language": "python",
   "name": "python3"
  },
  "language_info": {
   "codemirror_mode": {
    "name": "ipython",
    "version": 3
   },
   "file_extension": ".py",
   "mimetype": "text/x-python",
   "name": "python",
   "nbconvert_exporter": "python",
   "pygments_lexer": "ipython3",
   "version": "3.9.7"
  }
 },
 "nbformat": 4,
 "nbformat_minor": 4
}
