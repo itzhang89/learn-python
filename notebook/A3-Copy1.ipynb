{
 "cells": [
  {
   "cell_type": "markdown",
   "metadata": {},
   "source": [
    "# A3: Visualization for Exploratory Data Analysis"
   ]
  },
  {
   "cell_type": "markdown",
   "metadata": {},
   "source": [
    "* [Exploratory real estate data analysis](#EDA)\n",
    "* [Submission](#Submission)"
   ]
  },
  {
   "cell_type": "markdown",
   "metadata": {},
   "source": [
    "## Objective"
   ]
  },
  {
   "cell_type": "markdown",
   "metadata": {},
   "source": [
    "The main focus of [this course](https://courses.cs.sfu.ca/2022sp-cmpt-733-g1) is on data science. [Lecture 3](https://sfu-db.github.io/bigdata-cmpt733/Lectures/lec3.pdf) gave you an overview of Visualization. After completing this assignment, you should be able to confidently perform visual data analysis using Python and gain some experience with geospatial data."
   ]
  },
  {
   "cell_type": "markdown",
   "metadata": {},
   "source": [
    "As a motivating example of how visualization can bring data to life and clear up misconceptions, consider to watch [Hans Rosling's famous TED talks](https://www.ted.com/playlists/474/the_best_hans_rosling_talks_yo), e.g. \"The best stat's you've ever seen\" from 2006."
   ]
  },
  {
   "cell_type": "markdown",
   "metadata": {},
   "source": [
    "## Real Estate EDA"
   ]
  },
  {
   "cell_type": "markdown",
   "metadata": {},
   "source": [
    "**Real estate data**\n",
    "\n",
    "Imagine you are data scientist working at a real-estate company. In this week, your job is to analyze Vancouver housing prices. First, inspect the dataset provided in [property_tax_report_2021.zip](property_tax_report_2021.zip). The dataset contains information on properties from BC Assessment (BCA) and City sources in 2021.\n",
    "You can find the schema information of the dataset from the [Vancouver Open Data Portal](https://opendata.vancouver.ca/explore/dataset/property-tax-report/information/).\n",
    "Familiarize yourself with the context and background info on that page before diving deeper into Exploratory Data Analysis."
   ]
  },
  {
   "cell_type": "markdown",
   "metadata": {},
   "source": [
    "We first load the data as a DataFrame. To make this analysis more interesting, we will add two new columns to the data: `CURRENT_PRICE` represents the property price in 2021; `PREVIOUS_PRICE` represents the property price in 2020."
   ]
  },
  {
   "cell_type": "code",
   "execution_count": 3,
   "metadata": {},
   "outputs": [
    {
     "ename": "ModuleNotFoundError",
     "evalue": "No module named 'seaborn'",
     "output_type": "error",
     "traceback": [
      "\u001B[0;31m---------------------------------------------------------------------------\u001B[0m",
      "\u001B[0;31mModuleNotFoundError\u001B[0m                       Traceback (most recent call last)",
      "Input \u001B[0;32mIn [3]\u001B[0m, in \u001B[0;36m<module>\u001B[0;34m\u001B[0m\n\u001B[1;32m      1\u001B[0m \u001B[38;5;28;01mimport\u001B[39;00m \u001B[38;5;21;01mpandas\u001B[39;00m \u001B[38;5;28;01mas\u001B[39;00m \u001B[38;5;21;01mpd\u001B[39;00m\n\u001B[0;32m----> 2\u001B[0m \u001B[38;5;28;01mimport\u001B[39;00m \u001B[38;5;21;01mseaborn\u001B[39;00m \u001B[38;5;28;01mas\u001B[39;00m \u001B[38;5;21;01msns\u001B[39;00m\n\u001B[1;32m      3\u001B[0m \u001B[38;5;28;01mimport\u001B[39;00m \u001B[38;5;21;01mnumpy\u001B[39;00m \u001B[38;5;28;01mas\u001B[39;00m \u001B[38;5;21;01mnp\u001B[39;00m\n\u001B[1;32m      4\u001B[0m \u001B[38;5;28;01mimport\u001B[39;00m \u001B[38;5;21;01mmatplotlib\u001B[39;00m\u001B[38;5;21;01m.\u001B[39;00m\u001B[38;5;21;01mpyplot\u001B[39;00m \u001B[38;5;28;01mas\u001B[39;00m \u001B[38;5;21;01mplt\u001B[39;00m\n",
      "\u001B[0;31mModuleNotFoundError\u001B[0m: No module named 'seaborn'"
     ]
    }
   ],
   "source": [
    "import pandas as pd\n",
    "import seaborn as sns\n",
    "import numpy as np\n",
    "import matplotlib.pyplot as plt\n",
    "from IPython.display import display, Markdown\n",
    "def displaymd(mdstr):\n",
    "    display(Markdown(mdstr))"
   ]
  },
  {
   "cell_type": "code",
   "execution_count": 4,
   "metadata": {},
   "outputs": [],
   "source": [
    "\n",
    "# use this in case you have a hidpi display and figures appear blurry\n",
    "#%config InlineBackend.figure_format = 'retina'\n",
    "\n",
    "# before running this, unzip the provided data\n",
    "df = pd.read_csv(\"property_tax_report_2021.csv\", sep=';')\n",
    "\n",
    "df['CURRENT_PRICE'] = df.apply(lambda x: x['CURRENT_LAND_VALUE']+x['CURRENT_IMPROVEMENT_VALUE'], axis = 1)\n",
    "\n",
    "df['PREVIOUS_PRICE'] = df.apply(lambda x: x['PREVIOUS_LAND_VALUE']+x['PREVIOUS_IMPROVEMENT_VALUE'], axis = 1)\n"
   ]
  },
  {
   "cell_type": "markdown",
   "metadata": {},
   "source": [
    "Now let's start the EDA process. \n",
    "\n",
    "**Hint.** For some of the following questions, we provided an example plot (see [link](https://rawgit.com/sfu-db/bigdata-cmpt733/master/Assignments/A3/A3-plots.html)). But note that you do not have to use the same plot design. In fact, we didn't do a good job to follow the *Principles of Visualization Design* in the second half of the slides of [Lecture 3](https://sfu-db.github.io/bigdata-cmpt733/Lectures/lec3.pdf), please review this part by yourself.\n",
    "You should think about how to correct the bad designs in my plots."
   ]
  },
  {
   "cell_type": "markdown",
   "metadata": {},
   "source": [
    "### Question 1. Look at some example rows\n",
    "Print the first five rows of the data:"
   ]
  },
  {
   "cell_type": "code",
   "execution_count": 6,
   "metadata": {},
   "outputs": [
    {
     "data": {
      "text/plain": "           PID LEGAL_TYPE         FOLIO  LAND_COORDINATE ZONING_DISTRICT  \\\n0  002-582-759     STRATA   90717090036          9071709       CD-1 (94)   \n1  010-772-278       LAND  692077380000         69207738            RS-1   \n2  009-746-986       LAND   79715270000          7971527            RS-1   \n3  008-199-809       LAND  742030860000         74203086            RS-5   \n4  004-429-435       LAND  723032140000         72303214            RS-5   \n\n       ZONING_CLASSIFICATION LOT     PLAN BLOCK DISTRICT_LOT  ...  \\\n0  Comprehensive Development  36   VAS452   NaN          526  ...   \n1        One-Family Dwelling  22  VAP6923   511          526  ...   \n2        One-Family Dwelling   8  VAP9119   560          526  ...   \n3        One-Family Dwelling  12  VAP5959    18         2027  ...   \n4        One-Family Dwelling  32  VAP4499    60         2027  ...   \n\n  TAX_ASSESSMENT_YEAR  PREVIOUS_LAND_VALUE PREVIOUS_IMPROVEMENT_VALUE  \\\n0              2021.0            1015000.0                   115000.0   \n1              2021.0            2759000.0                   463000.0   \n2              2021.0            2958000.0                   278000.0   \n3              2021.0            3204000.0                   521000.0   \n4              2021.0            2720000.0                   256000.0   \n\n  YEAR_BUILT BIG_IMPROVEMENT_YEAR  TAX_LEVY NEIGHBOURHOOD_CODE REPORT_YEAR  \\\n0     1977.0               1977.0   3644.37                  4        2021   \n1     1991.0               1991.0  12528.80                  4        2021   \n2     1955.0               1975.0  11602.60                  4        2021   \n3     1989.0               1989.0  15046.20                  3        2021   \n4     1986.0               1986.0  11135.00                  3        2021   \n\n  CURRENT_PRICE  PREVIOUS_PRICE  \n0     1247000.0       1130000.0  \n1     3421000.0       3222000.0  \n2     3488000.0       3236000.0  \n3     3920000.0       3725000.0  \n4     3122000.0       2976000.0  \n\n[5 rows x 31 columns]",
      "text/html": "<div>\n<style scoped>\n    .dataframe tbody tr th:only-of-type {\n        vertical-align: middle;\n    }\n\n    .dataframe tbody tr th {\n        vertical-align: top;\n    }\n\n    .dataframe thead th {\n        text-align: right;\n    }\n</style>\n<table border=\"1\" class=\"dataframe\">\n  <thead>\n    <tr style=\"text-align: right;\">\n      <th></th>\n      <th>PID</th>\n      <th>LEGAL_TYPE</th>\n      <th>FOLIO</th>\n      <th>LAND_COORDINATE</th>\n      <th>ZONING_DISTRICT</th>\n      <th>ZONING_CLASSIFICATION</th>\n      <th>LOT</th>\n      <th>PLAN</th>\n      <th>BLOCK</th>\n      <th>DISTRICT_LOT</th>\n      <th>...</th>\n      <th>TAX_ASSESSMENT_YEAR</th>\n      <th>PREVIOUS_LAND_VALUE</th>\n      <th>PREVIOUS_IMPROVEMENT_VALUE</th>\n      <th>YEAR_BUILT</th>\n      <th>BIG_IMPROVEMENT_YEAR</th>\n      <th>TAX_LEVY</th>\n      <th>NEIGHBOURHOOD_CODE</th>\n      <th>REPORT_YEAR</th>\n      <th>CURRENT_PRICE</th>\n      <th>PREVIOUS_PRICE</th>\n    </tr>\n  </thead>\n  <tbody>\n    <tr>\n      <th>0</th>\n      <td>002-582-759</td>\n      <td>STRATA</td>\n      <td>90717090036</td>\n      <td>9071709</td>\n      <td>CD-1 (94)</td>\n      <td>Comprehensive Development</td>\n      <td>36</td>\n      <td>VAS452</td>\n      <td>NaN</td>\n      <td>526</td>\n      <td>...</td>\n      <td>2021.0</td>\n      <td>1015000.0</td>\n      <td>115000.0</td>\n      <td>1977.0</td>\n      <td>1977.0</td>\n      <td>3644.37</td>\n      <td>4</td>\n      <td>2021</td>\n      <td>1247000.0</td>\n      <td>1130000.0</td>\n    </tr>\n    <tr>\n      <th>1</th>\n      <td>010-772-278</td>\n      <td>LAND</td>\n      <td>692077380000</td>\n      <td>69207738</td>\n      <td>RS-1</td>\n      <td>One-Family Dwelling</td>\n      <td>22</td>\n      <td>VAP6923</td>\n      <td>511</td>\n      <td>526</td>\n      <td>...</td>\n      <td>2021.0</td>\n      <td>2759000.0</td>\n      <td>463000.0</td>\n      <td>1991.0</td>\n      <td>1991.0</td>\n      <td>12528.80</td>\n      <td>4</td>\n      <td>2021</td>\n      <td>3421000.0</td>\n      <td>3222000.0</td>\n    </tr>\n    <tr>\n      <th>2</th>\n      <td>009-746-986</td>\n      <td>LAND</td>\n      <td>79715270000</td>\n      <td>7971527</td>\n      <td>RS-1</td>\n      <td>One-Family Dwelling</td>\n      <td>8</td>\n      <td>VAP9119</td>\n      <td>560</td>\n      <td>526</td>\n      <td>...</td>\n      <td>2021.0</td>\n      <td>2958000.0</td>\n      <td>278000.0</td>\n      <td>1955.0</td>\n      <td>1975.0</td>\n      <td>11602.60</td>\n      <td>4</td>\n      <td>2021</td>\n      <td>3488000.0</td>\n      <td>3236000.0</td>\n    </tr>\n    <tr>\n      <th>3</th>\n      <td>008-199-809</td>\n      <td>LAND</td>\n      <td>742030860000</td>\n      <td>74203086</td>\n      <td>RS-5</td>\n      <td>One-Family Dwelling</td>\n      <td>12</td>\n      <td>VAP5959</td>\n      <td>18</td>\n      <td>2027</td>\n      <td>...</td>\n      <td>2021.0</td>\n      <td>3204000.0</td>\n      <td>521000.0</td>\n      <td>1989.0</td>\n      <td>1989.0</td>\n      <td>15046.20</td>\n      <td>3</td>\n      <td>2021</td>\n      <td>3920000.0</td>\n      <td>3725000.0</td>\n    </tr>\n    <tr>\n      <th>4</th>\n      <td>004-429-435</td>\n      <td>LAND</td>\n      <td>723032140000</td>\n      <td>72303214</td>\n      <td>RS-5</td>\n      <td>One-Family Dwelling</td>\n      <td>32</td>\n      <td>VAP4499</td>\n      <td>60</td>\n      <td>2027</td>\n      <td>...</td>\n      <td>2021.0</td>\n      <td>2720000.0</td>\n      <td>256000.0</td>\n      <td>1986.0</td>\n      <td>1986.0</td>\n      <td>11135.00</td>\n      <td>3</td>\n      <td>2021</td>\n      <td>3122000.0</td>\n      <td>2976000.0</td>\n    </tr>\n  </tbody>\n</table>\n<p>5 rows × 31 columns</p>\n</div>"
     },
     "execution_count": 5,
     "metadata": {},
     "output_type": "execute_result"
    },
    {
     "data": {
      "text/plain": "           PID LEGAL_TYPE         FOLIO  LAND_COORDINATE ZONING_DISTRICT  \\\n0  002-582-759     STRATA   90717090036          9071709       CD-1 (94)   \n1  010-772-278       LAND  692077380000         69207738            RS-1   \n2  009-746-986       LAND   79715270000          7971527            RS-1   \n3  008-199-809       LAND  742030860000         74203086            RS-5   \n4  004-429-435       LAND  723032140000         72303214            RS-5   \n\n       ZONING_CLASSIFICATION LOT     PLAN BLOCK DISTRICT_LOT  ...  \\\n0  Comprehensive Development  36   VAS452   NaN          526  ...   \n1        One-Family Dwelling  22  VAP6923   511          526  ...   \n2        One-Family Dwelling   8  VAP9119   560          526  ...   \n3        One-Family Dwelling  12  VAP5959    18         2027  ...   \n4        One-Family Dwelling  32  VAP4499    60         2027  ...   \n\n  TAX_ASSESSMENT_YEAR  PREVIOUS_LAND_VALUE PREVIOUS_IMPROVEMENT_VALUE  \\\n0              2021.0            1015000.0                   115000.0   \n1              2021.0            2759000.0                   463000.0   \n2              2021.0            2958000.0                   278000.0   \n3              2021.0            3204000.0                   521000.0   \n4              2021.0            2720000.0                   256000.0   \n\n  YEAR_BUILT BIG_IMPROVEMENT_YEAR  TAX_LEVY NEIGHBOURHOOD_CODE REPORT_YEAR  \\\n0     1977.0               1977.0   3644.37                  4        2021   \n1     1991.0               1991.0  12528.80                  4        2021   \n2     1955.0               1975.0  11602.60                  4        2021   \n3     1989.0               1989.0  15046.20                  3        2021   \n4     1986.0               1986.0  11135.00                  3        2021   \n\n  CURRENT_PRICE  PREVIOUS_PRICE  \n0     1247000.0       1130000.0  \n1     3421000.0       3222000.0  \n2     3488000.0       3236000.0  \n3     3920000.0       3725000.0  \n4     3122000.0       2976000.0  \n\n[5 rows x 31 columns]",
      "text/html": "<div>\n<style scoped>\n    .dataframe tbody tr th:only-of-type {\n        vertical-align: middle;\n    }\n\n    .dataframe tbody tr th {\n        vertical-align: top;\n    }\n\n    .dataframe thead th {\n        text-align: right;\n    }\n</style>\n<table border=\"1\" class=\"dataframe\">\n  <thead>\n    <tr style=\"text-align: right;\">\n      <th></th>\n      <th>PID</th>\n      <th>LEGAL_TYPE</th>\n      <th>FOLIO</th>\n      <th>LAND_COORDINATE</th>\n      <th>ZONING_DISTRICT</th>\n      <th>ZONING_CLASSIFICATION</th>\n      <th>LOT</th>\n      <th>PLAN</th>\n      <th>BLOCK</th>\n      <th>DISTRICT_LOT</th>\n      <th>...</th>\n      <th>TAX_ASSESSMENT_YEAR</th>\n      <th>PREVIOUS_LAND_VALUE</th>\n      <th>PREVIOUS_IMPROVEMENT_VALUE</th>\n      <th>YEAR_BUILT</th>\n      <th>BIG_IMPROVEMENT_YEAR</th>\n      <th>TAX_LEVY</th>\n      <th>NEIGHBOURHOOD_CODE</th>\n      <th>REPORT_YEAR</th>\n      <th>CURRENT_PRICE</th>\n      <th>PREVIOUS_PRICE</th>\n    </tr>\n  </thead>\n  <tbody>\n    <tr>\n      <th>0</th>\n      <td>002-582-759</td>\n      <td>STRATA</td>\n      <td>90717090036</td>\n      <td>9071709</td>\n      <td>CD-1 (94)</td>\n      <td>Comprehensive Development</td>\n      <td>36</td>\n      <td>VAS452</td>\n      <td>NaN</td>\n      <td>526</td>\n      <td>...</td>\n      <td>2021.0</td>\n      <td>1015000.0</td>\n      <td>115000.0</td>\n      <td>1977.0</td>\n      <td>1977.0</td>\n      <td>3644.37</td>\n      <td>4</td>\n      <td>2021</td>\n      <td>1247000.0</td>\n      <td>1130000.0</td>\n    </tr>\n    <tr>\n      <th>1</th>\n      <td>010-772-278</td>\n      <td>LAND</td>\n      <td>692077380000</td>\n      <td>69207738</td>\n      <td>RS-1</td>\n      <td>One-Family Dwelling</td>\n      <td>22</td>\n      <td>VAP6923</td>\n      <td>511</td>\n      <td>526</td>\n      <td>...</td>\n      <td>2021.0</td>\n      <td>2759000.0</td>\n      <td>463000.0</td>\n      <td>1991.0</td>\n      <td>1991.0</td>\n      <td>12528.80</td>\n      <td>4</td>\n      <td>2021</td>\n      <td>3421000.0</td>\n      <td>3222000.0</td>\n    </tr>\n    <tr>\n      <th>2</th>\n      <td>009-746-986</td>\n      <td>LAND</td>\n      <td>79715270000</td>\n      <td>7971527</td>\n      <td>RS-1</td>\n      <td>One-Family Dwelling</td>\n      <td>8</td>\n      <td>VAP9119</td>\n      <td>560</td>\n      <td>526</td>\n      <td>...</td>\n      <td>2021.0</td>\n      <td>2958000.0</td>\n      <td>278000.0</td>\n      <td>1955.0</td>\n      <td>1975.0</td>\n      <td>11602.60</td>\n      <td>4</td>\n      <td>2021</td>\n      <td>3488000.0</td>\n      <td>3236000.0</td>\n    </tr>\n    <tr>\n      <th>3</th>\n      <td>008-199-809</td>\n      <td>LAND</td>\n      <td>742030860000</td>\n      <td>74203086</td>\n      <td>RS-5</td>\n      <td>One-Family Dwelling</td>\n      <td>12</td>\n      <td>VAP5959</td>\n      <td>18</td>\n      <td>2027</td>\n      <td>...</td>\n      <td>2021.0</td>\n      <td>3204000.0</td>\n      <td>521000.0</td>\n      <td>1989.0</td>\n      <td>1989.0</td>\n      <td>15046.20</td>\n      <td>3</td>\n      <td>2021</td>\n      <td>3920000.0</td>\n      <td>3725000.0</td>\n    </tr>\n    <tr>\n      <th>4</th>\n      <td>004-429-435</td>\n      <td>LAND</td>\n      <td>723032140000</td>\n      <td>72303214</td>\n      <td>RS-5</td>\n      <td>One-Family Dwelling</td>\n      <td>32</td>\n      <td>VAP4499</td>\n      <td>60</td>\n      <td>2027</td>\n      <td>...</td>\n      <td>2021.0</td>\n      <td>2720000.0</td>\n      <td>256000.0</td>\n      <td>1986.0</td>\n      <td>1986.0</td>\n      <td>11135.00</td>\n      <td>3</td>\n      <td>2021</td>\n      <td>3122000.0</td>\n      <td>2976000.0</td>\n    </tr>\n  </tbody>\n</table>\n<p>5 rows × 31 columns</p>\n</div>"
     },
     "execution_count": 6,
     "metadata": {},
     "output_type": "execute_result"
    }
   ],
   "source": [
    "# --- Write your code below ---\n",
    "df.head(5)"
   ]
  },
  {
   "cell_type": "markdown",
   "metadata": {},
   "source": [
    "### Question 2. Get summary statistics"
   ]
  },
  {
   "cell_type": "markdown",
   "metadata": {},
   "source": [
    "From the above output, you will know that the data has 28 columns. Please use the describe() function to get the summary statistics of each column.\n",
    "Also, to improve readability use a pandas [DataFrame Styler](https://pandas.pydata.org/pandas-docs/stable/user_guide/style.html) to format the numbers without scientific notation (i.e. no floating point exponent)."
   ]
  },
  {
   "cell_type": "code",
   "execution_count": null,
   "metadata": {},
   "outputs": [],
   "source": [
    "# --- Write your code below ---\n"
   ]
  },
  {
   "cell_type": "markdown",
   "metadata": {},
   "source": [
    "Please look at the above output carefully, and make sure that you understand the meanings of each row (e.g., std, 25% percentile)."
   ]
  },
  {
   "cell_type": "markdown",
   "metadata": {},
   "source": [
    "### Question 3. Examine missing values"
   ]
  },
  {
   "cell_type": "markdown",
   "metadata": {},
   "source": [
    "Now we are going to perform EDA on a single column (i.e., univariate analysis). We chose `YEAR_BUILT`, which represents in which year a property was built.  We first check whether the column has any missing value. "
   ]
  },
  {
   "cell_type": "code",
   "execution_count": null,
   "metadata": {
    "scrolled": true
   },
   "outputs": [],
   "source": [
    "# --- Write your code below ---\n",
    "# Print the percentage of the rows whose YEAR_BUILT is missing.\n"
   ]
  },
  {
   "cell_type": "markdown",
   "metadata": {},
   "source": [
    "Missing values are very common in real-world datasets. In practice, you should always be aware of the impact of the missing values on your downstream analysis results."
   ]
  },
  {
   "cell_type": "markdown",
   "metadata": {},
   "source": [
    "### Question 4.  Plot a line chart"
   ]
  },
  {
   "cell_type": "markdown",
   "metadata": {},
   "source": [
    "We now start investigating the values in the `YEAR_BUILT` column.  Suppose we want to know: \"How many properties were built in each year (from 1990 to 2018)?\" Please plot a line chart to answer the question."
   ]
  },
  {
   "cell_type": "code",
   "execution_count": null,
   "metadata": {
    "scrolled": true
   },
   "outputs": [],
   "source": [
    "# --- Write your code below ---\n",
    "\n"
   ]
  },
  {
   "cell_type": "markdown",
   "metadata": {},
   "source": [
    "Please write down the **two** most interesting findings that you draw from the plot. For example, you can say: <font color='blue'>\"Vancouver has about 6300 properties built in 1996 alone, which is more than any other year\"</font>.\n",
    "\n",
    "**Findings**\n",
    "1. [ADD TEXT]\n",
    "2. [ADD TEXT]"
   ]
  },
  {
   "cell_type": "markdown",
   "metadata": {},
   "source": [
    "### Question 5. Plot a bar chart"
   ]
  },
  {
   "cell_type": "markdown",
   "metadata": {},
   "source": [
    "Next, we want to find that, between 1900 and 2021, which years have the most number of properties been built? Plot a bar chart to show the top 20 years. "
   ]
  },
  {
   "cell_type": "code",
   "execution_count": null,
   "metadata": {
    "scrolled": true
   },
   "outputs": [],
   "source": [
    "# --- Write your code below ---\n"
   ]
  },
  {
   "cell_type": "markdown",
   "metadata": {},
   "source": [
    "Please write down the **two** most interesting findings that you draw from the plot. \n",
    "\n",
    "**Findings**\n",
    "1. [ADD TEXT]\n",
    "2. [ADD TEXT]"
   ]
  },
  {
   "cell_type": "markdown",
   "metadata": {},
   "source": [
    "### Question 6. Plot a histogram"
   ]
  },
  {
   "cell_type": "markdown",
   "metadata": {},
   "source": [
    "What's the distribution of the number of properties built between 1990 and 2020? Please plot a histogram to answer this question."
   ]
  },
  {
   "cell_type": "code",
   "execution_count": null,
   "metadata": {},
   "outputs": [],
   "source": [
    "# --- Write your code below ---\n"
   ]
  },
  {
   "cell_type": "markdown",
   "metadata": {},
   "source": [
    "Please write down the **two** most interesting findings that you draw from the plot. \n",
    "\n",
    "**Findings**\n",
    "1. [ADD TEXT]\n",
    "2. [ADD TEXT]"
   ]
  },
  {
   "cell_type": "markdown",
   "metadata": {},
   "source": [
    "### Question 7. Make a scatter plot"
   ]
  },
  {
   "cell_type": "markdown",
   "metadata": {},
   "source": [
    "Suppose we are interested in those years which built more than 2000 properties. Make a scatter plot to examine whether there is a relationship between the number of built properties and the year?"
   ]
  },
  {
   "cell_type": "code",
   "execution_count": null,
   "metadata": {},
   "outputs": [],
   "source": [
    "# --- Write your code below ---\n",
    "\n"
   ]
  },
  {
   "cell_type": "markdown",
   "metadata": {},
   "source": [
    "Please write down the **two** most interesting findings that you draw from the plot. \n",
    "\n",
    "**Findings**\n",
    "1. [ADD TEXT]\n",
    "2. [ADD TEXT]"
   ]
  },
  {
   "cell_type": "markdown",
   "metadata": {},
   "source": [
    "### Step 8. Obtain geographic coordinates for Canadian postal codes\n",
    "\n",
    "The property data carries Canadian postal codes, but latitude/longitude coordinates would be much more useful. Unfortunately, geolocations of Canadian postal codes are protected by copyright and the information has to be purchased. Fortunately, you already paid for it with your tuition...\n",
    "\n",
    "Statistics Canada has a protected dataset, the postal code conversion file, which is available to SFU students via the Abacus Dataverse. Please follow these steps:\n",
    "* Have a valid SFU account (not sure if alumni account would work)\n",
    "* Connect to the Abacus Data Network via https://databases.lib.sfu.ca/record/61245148090003610/Abacus-Data-Network\n",
    "* Connecting via the above link should show you as logged in user at https://abacus-library-ubc-ca.proxy.lib.sfu.ca/\n",
    "* Search for: **Postal Code Conversion File May 2021**\n",
    "* Download files: **pccfNat_fccpNat_052021.txt** and the [2021 PCCF Guide .pdf](https://abacus.library.ubc.ca/file.xhtml?persistentId=hdl:11272.1/AB2/9J8YUH/WJHERN&version=1.0) and place them in the same folder as this notebook.\n",
    "\n",
    "#### Details about the dataset in the 2021 PCCF Guide\n",
    "* Description of available fields for each postal code, see Content section, pp. 9\n",
    "* Offsets and Size of fields to extract from lines in Postal Code Conversion File, Table 4.1, p. 11.  \n",
    "  This is also included along with this notebook as **pccf_record_layout.csv**"
   ]
  },
  {
   "cell_type": "code",
   "execution_count": null,
   "metadata": {},
   "outputs": [],
   "source": [
    "rldf = pd.read_csv('pccf_record_layout.csv')\n",
    "# load the raw text pccf file\n",
    "with open('pccfNat_fccpNat_052021.txt','r', encoding='latin-1') as fh:\n",
    "    pctxt = fh.read()\n",
    "pclines = pctxt.split('\\n')\n",
    "pclines = list(filter(lambda l: len(l), pclines)) # keep only non-empty lines\n",
    "displaymd(f\"Number of lines in PCCF: {len(pclines):,}\")"
   ]
  },
  {
   "cell_type": "markdown",
   "metadata": {},
   "source": [
    "The following extraction of substrings works, but is *very slow*. Please use [pandas string methods](https://pandas.pydata.org/pandas-docs/stable/user_guide/text.html#string-methods) to make this faster.  \n",
    "**TODO** write your improved code here."
   ]
  },
  {
   "cell_type": "code",
   "execution_count": null,
   "metadata": {},
   "outputs": [],
   "source": [
    "# TODO: rewrite this function to make it run in about a minute (or just maybe 17 sec)\n",
    "def gen_pccf():\n",
    "    def row_slice():\n",
    "        for l in pclines:\n",
    "            yield l[r['Position']-1:r['Position']+r['Size']-1]\n",
    "    for idx, r in rldf.iterrows():\n",
    "        print(idx, r['Field name'])\n",
    "        yield r['Field name'], list(row_slice())\n",
    "pccf_df = pd.DataFrame(dict(gen_pccf()))"
   ]
  },
  {
   "cell_type": "code",
   "execution_count": null,
   "metadata": {},
   "outputs": [],
   "source": [
    "pccf_df['LAT'] = pccf_df['LAT'].astype(float)\n",
    "pccf_df['LONG'] = pccf_df['LONG'].astype(float)\n",
    "pccf_short = pccf_df[['Postal code', 'LONG', 'LAT', 'CSDname']]\n",
    "pccf_short = pccf_short.groupby('Postal code').agg({'LONG':'mean','LAT':'mean','CSDname':'first'})"
   ]
  },
  {
   "cell_type": "markdown",
   "metadata": {},
   "source": [
    "Phew, that was tedious! But now we're ready to merge geolocation to our property data."
   ]
  },
  {
   "cell_type": "code",
   "execution_count": null,
   "metadata": {
    "scrolled": true
   },
   "outputs": [],
   "source": [
    "df['Postal code'] = df['PROPERTY_POSTAL_CODE'].str.replace(' ','')\n",
    "dfgeo = df.merge(pccf_short, on='Postal code')"
   ]
  },
  {
   "cell_type": "code",
   "execution_count": null,
   "metadata": {},
   "outputs": [],
   "source": [
    "# TODO remove the properties that are further north, outside Vancouver proper.\n",
    "# Use a suitable visualiation to decide the right cutoff.\n",
    "\n",
    "# --- write your code here ---\n",
    "# dfgeo_van = "
   ]
  },
  {
   "cell_type": "markdown",
   "metadata": {},
   "source": [
    "Feel free to use the function below to prepare a heatmap of averages. The code is based on [Matthew McGonagle's blog post](https://matthewmcgonagle.github.io/blog/2019/01/22/HeatmapBins)."
   ]
  },
  {
   "cell_type": "code",
   "execution_count": null,
   "metadata": {},
   "outputs": [],
   "source": [
    "def heatmap_bins(data, fieldsxy, ncuts=30, aggarg='mean'):\n",
    "    \"\"\"Perform data.groupby using bin cuts along columns named in fieldsxy.\n",
    "    Args:\n",
    "        data     - pandas dataframe\n",
    "        fieldsxy - list of column names along which to perform binned groupby\n",
    "        ncuts    - number of cuts to perform for each field (see pd.cut)\n",
    "        aggarg   - aggregation operation to perform, default: 'mean'\n",
    "    Returns:\n",
    "        grouped dataframe, ready for plotting via sns.heatmap(means['COLUMNAME'])\n",
    "    \"\"\"\n",
    "    # based on: https://matthewmcgonagle.github.io/blog/2019/01/22/HeatmapBins\n",
    "    cuts = pd.DataFrame({str(feature) + ' bins' : pd.cut(data[feature], ncuts) for feature in fieldsxy})\n",
    "    means = data.join(cuts).groupby( list(cuts) ).agg(aggarg)\n",
    "    means = means.unstack(level = 0) # Use level 0 to put 0Bin as columns.\n",
    "    # Reverse the order of the rows as the heatmap will print from top to bottom.\n",
    "    means = means.iloc[::-1]\n",
    "    return means"
   ]
  },
  {
   "cell_type": "markdown",
   "metadata": {},
   "source": [
    "**TODO** plot a heatmap of average current property prices, within the same geographic area\n",
    "\n",
    "Note that the colormap is pretty much useless due to a few extreme values. Rather than removing them as 'outliers', please just map the values before drawing with a suitable choice of logarithm."
   ]
  },
  {
   "cell_type": "code",
   "execution_count": null,
   "metadata": {},
   "outputs": [],
   "source": [
    "field = 'CURRENT_PRICE'\n",
    "with plt.rc_context({'figure.figsize': (10,10)}):\n",
    "    pass\n",
    "    # TODO -- write your code here ---\n",
    "plt.xticks([], []);\n",
    "plt.yticks([], []);"
   ]
  },
  {
   "cell_type": "markdown",
   "metadata": {},
   "source": [
    "Please write down the **two** most interesting findings that you draw from the plot. \n",
    "\n",
    "**Findings**\n",
    "1. [ADD TEXT]\n",
    "2. [ADD TEXT]\n"
   ]
  },
  {
   "cell_type": "markdown",
   "metadata": {},
   "source": [
    "### Optional Task 9: Further exploration\n",
    "\n",
    "This Assignment is due while you're also working on your Blog posts. To give you enough time to do a good job on your article, we dropped a more involved Part 2.\n",
    "\n",
    "If you want to go further after starting out with the spatial data above, have a look at the material and tutorials of Geoff Boeing's [OSMnx](https://github.com/gboeing/osmnx). It can interface with the open street map API and pull further data (such as amenities, road network, basemap to put in the background of a plot, etc.)\n",
    "\n",
    "In case you decide to work on this and would like to share your result, include a single page (or short) PDF that contains a plot and brief paragraph explaining it. Depending on the outcome, we may showcase some of these works in class."
   ]
  },
  {
   "cell_type": "markdown",
   "metadata": {},
   "source": [
    "## Submission"
   ]
  },
  {
   "cell_type": "markdown",
   "metadata": {},
   "source": [
    "You need to complete the first part by filling out this notebook. Please submit <font color=\"blue\">A3.ipynb</font> to the CourSys activity [Assignment 3](https://courses.cs.sfu.ca/2022sp-cmpt-733-g1/+a3/). "
   ]
  }
 ],
 "metadata": {
  "kernelspec": {
   "display_name": "Python 3",
   "language": "python",
   "name": "python3"
  },
  "language_info": {
   "codemirror_mode": {
    "name": "ipython",
    "version": 3
   },
   "file_extension": ".py",
   "mimetype": "text/x-python",
   "name": "python",
   "nbconvert_exporter": "python",
   "pygments_lexer": "ipython3",
   "version": "3.8.5"
  }
 },
 "nbformat": 4,
 "nbformat_minor": 4
}